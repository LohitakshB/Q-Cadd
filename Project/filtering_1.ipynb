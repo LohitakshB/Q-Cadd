{
 "cells": [
  {
   "cell_type": "code",
   "execution_count": 3,
   "metadata": {},
   "outputs": [],
   "source": [
    "from rdkit import Chem\n",
    "from rdkit.Chem import Descriptors, Crippen\n",
    "import pandas as pd\n",
    "from rdkit.Chem import QED\n"
   ]
  },
  {
   "cell_type": "code",
   "execution_count": null,
   "metadata": {},
   "outputs": [],
   "source": [
    "csv_input = \"C:\\Quantum_Computing\\Project\\Data\\EFGR\\EGFR_Inhibitors_SMILES_Selfies_2.csv\"\n",
    "df = pd.read_csv(csv_input)\n",
    "smile_new = ''\n",
    "\n",
    "data = []\n",
    "csv_new = \"C:\\Quantum_Computing\\Project\\Data\\EFGR\\EGFR_Inhibitors_SMILES_ghose.csv\"\n",
    "for entry in df[\"SMILE\"]:\n",
    "    smile = entry.replace(\"'\",\"\")\n",
    "    mol = Chem.MolFromSmiles(smile)\n",
    "    if mol is None:\n",
    "        continue\n",
    "    mw = Descriptors.MolWt(mol)\n",
    "    logp = Crippen.MolLogP(mol)\n",
    "    num_atoms = mol.GetNumAtoms()\n",
    "    mr = Crippen.MolMR(mol)\n",
    "\n",
    "    if 160<= mw <=480 and -0.4<= logp <= 5.6 and 20 <= num_atoms <= 70 and 40<= mr <=130:\n",
    "        data.append({ \"SMILE\":smile})\n",
    "        print(\"is valid\")\n",
    "    else:\n",
    "        print(\"is not valid\")\n",
    "\n",
    "\n",
    "df_2 = pd.DataFrame(data)\n",
    "\n",
    "df_2.to_csv(csv_new , index=False)   \n",
    "print(f\"SMILES strings saved to {csv_new }\")"
   ]
  },
  {
   "cell_type": "code",
   "execution_count": 11,
   "metadata": {},
   "outputs": [
    {
     "name": "stdout",
     "output_type": "stream",
     "text": [
      "Top 10,000 ligands by QED score saved to C:\\Quantum_Computing\\Project\\Data\\EFGR\\EGFR_Inhibitors_SMILES_ghose_QED.csv\n"
     ]
    }
   ],
   "source": [
    "csv_input = \"C:\\Quantum_Computing\\Project\\Data\\EFGR\\EGFR_Inhibitors_SMILES_ghose.csv\"\n",
    "csv_new = \"C:\\Quantum_Computing\\Project\\Data\\EFGR\\EGFR_Inhibitors_SMILES_ghose_QED.csv\"\n",
    "qed_data = []\n",
    "df = pd.read_csv(csv_input)\n",
    "for entry in df[\"SMILE\"]:\n",
    "        mol = Chem.MolFromSmiles(entry)\n",
    "        qed_score = QED.qed(mol)\n",
    "        qed_data.append({\"SMILE\": entry, \"QED\": qed_score})\n",
    "\n",
    "qed_df = pd.DataFrame(qed_data)\n",
    "\n",
    "top_qed_df = qed_df.sort_values(by=\"QED\", ascending=False).head(10000)\n",
    "\n",
    "top_qed_df.to_csv(csv_new, index=False)\n",
    "\n",
    "print(f\"Top 10,000 ligands by QED score saved to {csv_new}\")"
   ]
  }
 ],
 "metadata": {
  "kernelspec": {
   "display_name": "venv",
   "language": "python",
   "name": "python3"
  },
  "language_info": {
   "codemirror_mode": {
    "name": "ipython",
    "version": 3
   },
   "file_extension": ".py",
   "mimetype": "text/x-python",
   "name": "python",
   "nbconvert_exporter": "python",
   "pygments_lexer": "ipython3",
   "version": "3.11.5"
  }
 },
 "nbformat": 4,
 "nbformat_minor": 2
}
