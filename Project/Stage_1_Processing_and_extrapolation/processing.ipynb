{
 "cells": [
  {
   "cell_type": "code",
   "execution_count": null,
   "metadata": {},
   "outputs": [],
   "source": [
    "import pandas as pd\n",
    "from rdkit import Chem\n",
    "\n",
    "sdf_file = \"path/to/your/file\"\n",
    "\n",
    "output_csv = \"path/to/your/file\"\n",
    "\n",
    "data = []\n",
    "\n",
    "suppl = Chem.SDMolSupplier(sdf_file)\n",
    "\n",
    "for index, mol in enumerate(suppl):\n",
    "    if mol is not None: \n",
    "        \n",
    "        smiles = Chem.MolToSmiles(mol)\n",
    "        ligand_name = mol.GetProp(\"_Name\") if mol.HasProp(\"_Name\") else f\"Ligand_{index+1}\"\n",
    "        data.append({\"Name\": ligand_name, \"SMILE\": smiles})\n",
    "\n",
    "df = pd.DataFrame(data)\n",
    "\n",
    "df.to_csv(output_csv, index=False)\n",
    "\n",
    "print(f\"SMILES strings saved to {output_csv}\")"
   ]
  }
 ],
 "metadata": {
  "kernelspec": {
   "display_name": ".venv",
   "language": "python",
   "name": "python3"
  },
  "language_info": {
   "codemirror_mode": {
    "name": "ipython",
    "version": 3
   },
   "file_extension": ".py",
   "mimetype": "text/x-python",
   "name": "python",
   "nbconvert_exporter": "python",
   "pygments_lexer": "ipython3",
   "version": "3.11.4"
  }
 },
 "nbformat": 4,
 "nbformat_minor": 2
}
