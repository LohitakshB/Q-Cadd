{
 "cells": [
  {
   "cell_type": "code",
   "execution_count": null,
   "metadata": {},
   "outputs": [],
   "source": [
    "from rdkit import Chem\n",
    "import pandas as pd\n",
    "from sklearn.experimental import enable_iterative_imputer  # Required for IterativeImputer\n",
    "from sklearn.impute import IterativeImputer\n",
    "\n",
    "\n",
    "sdf_file = r'C:\\Qe-CaDD\\Project\\QuantumML\\tox21_10k_data_all.sdf'\n",
    "suppl = Chem.SDMolSupplier(sdf_file)\n",
    "\n",
    "data = []\n",
    "\n",
    "\n",
    "for mol in suppl:\n",
    "    if mol is None:  \n",
    "        continue\n",
    "    properties = mol.GetPropsAsDict()\n",
    "    smiles = Chem.MolToSmiles(mol)\n",
    "    properties['SMILES'] = smiles\n",
    "    data.append(properties)\n",
    "\n",
    "\n",
    "df = pd.DataFrame(data)\n",
    "\n",
    "\n",
    "df.to_csv('tox21.csv', index=False)"
   ]
  },
  {
   "cell_type": "code",
   "execution_count": null,
   "metadata": {},
   "outputs": [],
   "source": [
    "import pandas as pd\n",
    "from sklearn.experimental import enable_iterative_imputer  \n",
    "from sklearn.impute import IterativeImputer\n",
    "\n",
    "\n",
    "df = pd.read_csv('tox21.csv')\n",
    "\n",
    "imputer = IterativeImputer(max_iter=10, random_state=0)\n",
    "\n",
    "\n",
    "df_filled = pd.DataFrame(imputer.fit_transform(df.select_dtypes(include='number')), columns=df.select_dtypes(include='number').columns)\n",
    "\n",
    "\n",
    "df_filled = pd.concat([df.drop(columns=df.select_dtypes(include='number').columns), df_filled], axis=1)\n",
    "\n",
    "\n",
    "for column in df_filled.select_dtypes(include='number').columns:\n",
    "    df_filled[f'binary_{column}'] = (df_filled[column] > 0.5).astype(int)\n",
    "\n",
    "\n",
    "df_filled.to_csv('tox21_filled.csv', index=False)\n"
   ]
  },
  {
   "cell_type": "code",
   "execution_count": null,
   "metadata": {},
   "outputs": [],
   "source": [
    "import pandas as pd\n",
    "\n",
    "\n",
    "df = pd.read_csv('tox21_filled.csv')\n",
    "\n",
    "def transform_value(value):\n",
    "    if isinstance(value, (int, float)):  \n",
    "        return 1 if value > 0.5 else 0  \n",
    "    return value  \n",
    "\n",
    "df_transformed = df.map(transform_value)\n",
    "\n",
    "df_transformed.to_csv('tox21_transformed.csv', index=False)\n",
    "\n",
    "\n"
   ]
  }
 ],
 "metadata": {
  "kernelspec": {
   "display_name": "Qe_CaDD",
   "language": "python",
   "name": "python3"
  },
  "language_info": {
   "codemirror_mode": {
    "name": "ipython",
    "version": 3
   },
   "file_extension": ".py",
   "mimetype": "text/x-python",
   "name": "python",
   "nbconvert_exporter": "python",
   "pygments_lexer": "ipython3",
   "version": "3.11.5"
  }
 },
 "nbformat": 4,
 "nbformat_minor": 2
}
