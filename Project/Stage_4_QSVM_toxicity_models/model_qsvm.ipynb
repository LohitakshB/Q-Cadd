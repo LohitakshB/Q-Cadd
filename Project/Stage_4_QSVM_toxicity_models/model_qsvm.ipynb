{
 "cells": [
  {
   "cell_type": "code",
   "execution_count": 2,
   "metadata": {},
   "outputs": [],
   "source": [
    "import pandas as pd\n",
    "import numpy as np\n",
    "from sklearn.model_selection import train_test_split\n",
    "import joblib\n",
    "from joblib import load\n",
    "from qiskit.circuit.library import ZFeatureMap\n",
    "import qiskit_machine_learning\n",
    "from qiskit_machine_learning.kernels import FidelityStatevectorKernel\n",
    "from qiskit.primitives import Sampler\n",
    "from qiskit_algorithms.state_fidelities import ComputeUncompute\n",
    "from qiskit_machine_learning.algorithms import QSVC\n",
    "from sklearn.svm import SVC\n",
    "import os\n",
    "from sklearn.utils import resample\n",
    "from sklearn.metrics import classification_report\n",
    "from sklearn.model_selection import KFold"
   ]
  },
  {
   "cell_type": "code",
   "execution_count": 34,
   "metadata": {},
   "outputs": [
    {
     "name": "stdout",
     "output_type": "stream",
     "text": [
      "tox21_pca_NR-AhR.csv\n",
      "Reduced x_train shape: (355, 16)\n"
     ]
    },
    {
     "name": "stderr",
     "output_type": "stream",
     "text": [
      "C:\\Users\\lohit\\AppData\\Local\\Temp\\ipykernel_16156\\850499729.py:32: DeprecationWarning: The class ``qiskit.primitives.sampler.Sampler`` is deprecated as of qiskit 1.2. It will be removed no earlier than 3 months after the release date. All implementations of the `BaseSamplerV1` interface have been deprecated in favor of their V2 counterparts. The V2 alternative for the `Sampler` class is `StatevectorSampler`.\n",
      "  sampler = Sampler()\n"
     ]
    },
    {
     "name": "stdout",
     "output_type": "stream",
     "text": [
      "Training Accuracy (QSVC): 0.97\n",
      "Test Accuracy (QSVC): 0.58\n",
      "              precision    recall  f1-score   support\n",
      "\n",
      "         0.0       0.59      0.65      0.62        46\n",
      "         1.0       0.58      0.51      0.54        43\n",
      "\n",
      "    accuracy                           0.58        89\n",
      "   macro avg       0.58      0.58      0.58        89\n",
      "weighted avg       0.58      0.58      0.58        89\n",
      "\n",
      "Training Accuracy (SVM): 0.78\n",
      "Test Accuracy (SVM): 0.57\n",
      "              precision    recall  f1-score   support\n",
      "\n",
      "         0.0       0.60      0.54      0.57        46\n",
      "         1.0       0.55      0.60      0.58        43\n",
      "\n",
      "    accuracy                           0.57        89\n",
      "   macro avg       0.57      0.57      0.57        89\n",
      "weighted avg       0.57      0.57      0.57        89\n",
      "\n",
      "tox21_pca_NR-AR-LBD.csv\n",
      "Reduced x_train shape: (355, 16)\n"
     ]
    },
    {
     "name": "stderr",
     "output_type": "stream",
     "text": [
      "C:\\Users\\lohit\\AppData\\Local\\Temp\\ipykernel_16156\\850499729.py:32: DeprecationWarning: The class ``qiskit.primitives.sampler.Sampler`` is deprecated as of qiskit 1.2. It will be removed no earlier than 3 months after the release date. All implementations of the `BaseSamplerV1` interface have been deprecated in favor of their V2 counterparts. The V2 alternative for the `Sampler` class is `StatevectorSampler`.\n",
      "  sampler = Sampler()\n"
     ]
    },
    {
     "ename": "KeyboardInterrupt",
     "evalue": "",
     "output_type": "error",
     "traceback": [
      "\u001b[1;31m---------------------------------------------------------------------------\u001b[0m",
      "\u001b[1;31mKeyboardInterrupt\u001b[0m                         Traceback (most recent call last)",
      "Cell \u001b[1;32mIn[34], line 39\u001b[0m\n\u001b[0;32m     35\u001b[0m kernel \u001b[38;5;241m=\u001b[39m FidelityStatevectorKernel(feature_map\u001b[38;5;241m=\u001b[39m feature_map)\n\u001b[0;32m     38\u001b[0m qsvc \u001b[38;5;241m=\u001b[39m QSVC(quantum_kernel\u001b[38;5;241m=\u001b[39mkernel, C\u001b[38;5;241m=\u001b[39m\u001b[38;5;241m0.75\u001b[39m , gamma \u001b[38;5;241m=\u001b[39m \u001b[38;5;241m0.001\u001b[39m, cache_size\u001b[38;5;241m=\u001b[39m\u001b[38;5;241m10000\u001b[39m)\n\u001b[1;32m---> 39\u001b[0m \u001b[43mqsvc\u001b[49m\u001b[38;5;241;43m.\u001b[39;49m\u001b[43mfit\u001b[49m\u001b[43m(\u001b[49m\u001b[43mx_train\u001b[49m\u001b[43m,\u001b[49m\u001b[43m \u001b[49m\u001b[43my_train\u001b[49m\u001b[43m)\u001b[49m\n\u001b[0;32m     42\u001b[0m qsvc_predict \u001b[38;5;241m=\u001b[39m qsvc\u001b[38;5;241m.\u001b[39mpredict(x_test)\n\u001b[0;32m     44\u001b[0m train_accuracy_qsvc \u001b[38;5;241m=\u001b[39m qsvc\u001b[38;5;241m.\u001b[39mscore(x_train, y_train)\n",
      "File \u001b[1;32mc:\\Qe-CaDD\\Qe_CaDD\\Lib\\site-packages\\sklearn\\base.py:1473\u001b[0m, in \u001b[0;36m_fit_context.<locals>.decorator.<locals>.wrapper\u001b[1;34m(estimator, *args, **kwargs)\u001b[0m\n\u001b[0;32m   1466\u001b[0m     estimator\u001b[38;5;241m.\u001b[39m_validate_params()\n\u001b[0;32m   1468\u001b[0m \u001b[38;5;28;01mwith\u001b[39;00m config_context(\n\u001b[0;32m   1469\u001b[0m     skip_parameter_validation\u001b[38;5;241m=\u001b[39m(\n\u001b[0;32m   1470\u001b[0m         prefer_skip_nested_validation \u001b[38;5;129;01mor\u001b[39;00m global_skip_validation\n\u001b[0;32m   1471\u001b[0m     )\n\u001b[0;32m   1472\u001b[0m ):\n\u001b[1;32m-> 1473\u001b[0m     \u001b[38;5;28;01mreturn\u001b[39;00m \u001b[43mfit_method\u001b[49m\u001b[43m(\u001b[49m\u001b[43mestimator\u001b[49m\u001b[43m,\u001b[49m\u001b[43m \u001b[49m\u001b[38;5;241;43m*\u001b[39;49m\u001b[43margs\u001b[49m\u001b[43m,\u001b[49m\u001b[43m \u001b[49m\u001b[38;5;241;43m*\u001b[39;49m\u001b[38;5;241;43m*\u001b[39;49m\u001b[43mkwargs\u001b[49m\u001b[43m)\u001b[49m\n",
      "File \u001b[1;32mc:\\Qe-CaDD\\Qe_CaDD\\Lib\\site-packages\\sklearn\\svm\\_base.py:250\u001b[0m, in \u001b[0;36mBaseLibSVM.fit\u001b[1;34m(self, X, y, sample_weight)\u001b[0m\n\u001b[0;32m    247\u001b[0m     \u001b[38;5;28mprint\u001b[39m(\u001b[38;5;124m\"\u001b[39m\u001b[38;5;124m[LibSVM]\u001b[39m\u001b[38;5;124m\"\u001b[39m, end\u001b[38;5;241m=\u001b[39m\u001b[38;5;124m\"\u001b[39m\u001b[38;5;124m\"\u001b[39m)\n\u001b[0;32m    249\u001b[0m seed \u001b[38;5;241m=\u001b[39m rnd\u001b[38;5;241m.\u001b[39mrandint(np\u001b[38;5;241m.\u001b[39miinfo(\u001b[38;5;124m\"\u001b[39m\u001b[38;5;124mi\u001b[39m\u001b[38;5;124m\"\u001b[39m)\u001b[38;5;241m.\u001b[39mmax)\n\u001b[1;32m--> 250\u001b[0m \u001b[43mfit\u001b[49m\u001b[43m(\u001b[49m\u001b[43mX\u001b[49m\u001b[43m,\u001b[49m\u001b[43m \u001b[49m\u001b[43my\u001b[49m\u001b[43m,\u001b[49m\u001b[43m \u001b[49m\u001b[43msample_weight\u001b[49m\u001b[43m,\u001b[49m\u001b[43m \u001b[49m\u001b[43msolver_type\u001b[49m\u001b[43m,\u001b[49m\u001b[43m \u001b[49m\u001b[43mkernel\u001b[49m\u001b[43m,\u001b[49m\u001b[43m \u001b[49m\u001b[43mrandom_seed\u001b[49m\u001b[38;5;241;43m=\u001b[39;49m\u001b[43mseed\u001b[49m\u001b[43m)\u001b[49m\n\u001b[0;32m    251\u001b[0m \u001b[38;5;66;03m# see comment on the other call to np.iinfo in this file\u001b[39;00m\n\u001b[0;32m    253\u001b[0m \u001b[38;5;28mself\u001b[39m\u001b[38;5;241m.\u001b[39mshape_fit_ \u001b[38;5;241m=\u001b[39m X\u001b[38;5;241m.\u001b[39mshape \u001b[38;5;28;01mif\u001b[39;00m \u001b[38;5;28mhasattr\u001b[39m(X, \u001b[38;5;124m\"\u001b[39m\u001b[38;5;124mshape\u001b[39m\u001b[38;5;124m\"\u001b[39m) \u001b[38;5;28;01melse\u001b[39;00m (n_samples,)\n",
      "File \u001b[1;32mc:\\Qe-CaDD\\Qe_CaDD\\Lib\\site-packages\\sklearn\\svm\\_base.py:309\u001b[0m, in \u001b[0;36mBaseLibSVM._dense_fit\u001b[1;34m(self, X, y, sample_weight, solver_type, kernel, random_seed)\u001b[0m\n\u001b[0;32m    305\u001b[0m \u001b[38;5;28;01mif\u001b[39;00m \u001b[38;5;28mcallable\u001b[39m(\u001b[38;5;28mself\u001b[39m\u001b[38;5;241m.\u001b[39mkernel):\n\u001b[0;32m    306\u001b[0m     \u001b[38;5;66;03m# you must store a reference to X to compute the kernel in predict\u001b[39;00m\n\u001b[0;32m    307\u001b[0m     \u001b[38;5;66;03m# TODO: add keyword copy to copy on demand\u001b[39;00m\n\u001b[0;32m    308\u001b[0m     \u001b[38;5;28mself\u001b[39m\u001b[38;5;241m.\u001b[39m__Xfit \u001b[38;5;241m=\u001b[39m X\n\u001b[1;32m--> 309\u001b[0m     X \u001b[38;5;241m=\u001b[39m \u001b[38;5;28;43mself\u001b[39;49m\u001b[38;5;241;43m.\u001b[39;49m\u001b[43m_compute_kernel\u001b[49m\u001b[43m(\u001b[49m\u001b[43mX\u001b[49m\u001b[43m)\u001b[49m\n\u001b[0;32m    311\u001b[0m     \u001b[38;5;28;01mif\u001b[39;00m X\u001b[38;5;241m.\u001b[39mshape[\u001b[38;5;241m0\u001b[39m] \u001b[38;5;241m!=\u001b[39m X\u001b[38;5;241m.\u001b[39mshape[\u001b[38;5;241m1\u001b[39m]:\n\u001b[0;32m    312\u001b[0m         \u001b[38;5;28;01mraise\u001b[39;00m \u001b[38;5;167;01mValueError\u001b[39;00m(\u001b[38;5;124m\"\u001b[39m\u001b[38;5;124mX.shape[0] should be equal to X.shape[1]\u001b[39m\u001b[38;5;124m\"\u001b[39m)\n",
      "File \u001b[1;32mc:\\Qe-CaDD\\Qe_CaDD\\Lib\\site-packages\\sklearn\\svm\\_base.py:507\u001b[0m, in \u001b[0;36mBaseLibSVM._compute_kernel\u001b[1;34m(self, X)\u001b[0m\n\u001b[0;32m    503\u001b[0m \u001b[38;5;250m\u001b[39m\u001b[38;5;124;03m\"\"\"Return the data transformed by a callable kernel\"\"\"\u001b[39;00m\n\u001b[0;32m    504\u001b[0m \u001b[38;5;28;01mif\u001b[39;00m \u001b[38;5;28mcallable\u001b[39m(\u001b[38;5;28mself\u001b[39m\u001b[38;5;241m.\u001b[39mkernel):\n\u001b[0;32m    505\u001b[0m     \u001b[38;5;66;03m# in the case of precomputed kernel given as a function, we\u001b[39;00m\n\u001b[0;32m    506\u001b[0m     \u001b[38;5;66;03m# have to compute explicitly the kernel matrix\u001b[39;00m\n\u001b[1;32m--> 507\u001b[0m     kernel \u001b[38;5;241m=\u001b[39m \u001b[38;5;28;43mself\u001b[39;49m\u001b[38;5;241;43m.\u001b[39;49m\u001b[43mkernel\u001b[49m\u001b[43m(\u001b[49m\u001b[43mX\u001b[49m\u001b[43m,\u001b[49m\u001b[43m \u001b[49m\u001b[38;5;28;43mself\u001b[39;49m\u001b[38;5;241;43m.\u001b[39;49m\u001b[43m__Xfit\u001b[49m\u001b[43m)\u001b[49m\n\u001b[0;32m    508\u001b[0m     \u001b[38;5;28;01mif\u001b[39;00m sp\u001b[38;5;241m.\u001b[39missparse(kernel):\n\u001b[0;32m    509\u001b[0m         kernel \u001b[38;5;241m=\u001b[39m kernel\u001b[38;5;241m.\u001b[39mtoarray()\n",
      "File \u001b[1;32mc:\\Qe-CaDD\\Qe_CaDD\\Lib\\site-packages\\qiskit_machine_learning\\kernels\\fidelity_statevector_kernel.py:121\u001b[0m, in \u001b[0;36mFidelityStatevectorKernel.evaluate\u001b[1;34m(self, x_vec, y_vec)\u001b[0m\n\u001b[0;32m    118\u001b[0m \u001b[38;5;28;01melif\u001b[39;00m \u001b[38;5;129;01mnot\u001b[39;00m np\u001b[38;5;241m.\u001b[39marray_equal(x_vec, y_vec):\n\u001b[0;32m    119\u001b[0m     is_symmetric \u001b[38;5;241m=\u001b[39m \u001b[38;5;28;01mFalse\u001b[39;00m\n\u001b[1;32m--> 121\u001b[0m \u001b[38;5;28;01mreturn\u001b[39;00m \u001b[38;5;28;43mself\u001b[39;49m\u001b[38;5;241;43m.\u001b[39;49m\u001b[43m_evaluate\u001b[49m\u001b[43m(\u001b[49m\u001b[43mx_vec\u001b[49m\u001b[43m,\u001b[49m\u001b[43m \u001b[49m\u001b[43my_vec\u001b[49m\u001b[43m,\u001b[49m\u001b[43m \u001b[49m\u001b[43mis_symmetric\u001b[49m\u001b[43m)\u001b[49m\n",
      "File \u001b[1;32mc:\\Qe-CaDD\\Qe_CaDD\\Lib\\site-packages\\qiskit_machine_learning\\kernels\\fidelity_statevector_kernel.py:134\u001b[0m, in \u001b[0;36mFidelityStatevectorKernel._evaluate\u001b[1;34m(self, x_vec, y_vec, is_symmetric)\u001b[0m\n\u001b[0;32m    132\u001b[0m         \u001b[38;5;28;01mif\u001b[39;00m np\u001b[38;5;241m.\u001b[39marray_equal(x, y):\n\u001b[0;32m    133\u001b[0m             \u001b[38;5;28;01mcontinue\u001b[39;00m\n\u001b[1;32m--> 134\u001b[0m         kernel_matrix[i, j] \u001b[38;5;241m=\u001b[39m \u001b[38;5;28;43mself\u001b[39;49m\u001b[38;5;241;43m.\u001b[39;49m\u001b[43m_compute_kernel_entry\u001b[49m\u001b[43m(\u001b[49m\u001b[43mx\u001b[49m\u001b[43m,\u001b[49m\u001b[43m \u001b[49m\u001b[43my\u001b[49m\u001b[43m)\u001b[49m\n\u001b[0;32m    136\u001b[0m \u001b[38;5;28;01mif\u001b[39;00m \u001b[38;5;28mself\u001b[39m\u001b[38;5;241m.\u001b[39m_enforce_psd \u001b[38;5;129;01mand\u001b[39;00m is_symmetric \u001b[38;5;129;01mand\u001b[39;00m \u001b[38;5;28mself\u001b[39m\u001b[38;5;241m.\u001b[39m_shots \u001b[38;5;129;01mis\u001b[39;00m \u001b[38;5;129;01mnot\u001b[39;00m \u001b[38;5;28;01mNone\u001b[39;00m:\n\u001b[0;32m    137\u001b[0m     kernel_matrix \u001b[38;5;241m=\u001b[39m \u001b[38;5;28mself\u001b[39m\u001b[38;5;241m.\u001b[39m_make_psd(kernel_matrix)\n",
      "File \u001b[1;32mc:\\Qe-CaDD\\Qe_CaDD\\Lib\\site-packages\\qiskit_machine_learning\\kernels\\fidelity_statevector_kernel.py:147\u001b[0m, in \u001b[0;36mFidelityStatevectorKernel._compute_kernel_entry\u001b[1;34m(self, x, y)\u001b[0m\n\u001b[0;32m    146\u001b[0m \u001b[38;5;28;01mdef\u001b[39;00m \u001b[38;5;21m_compute_kernel_entry\u001b[39m(\u001b[38;5;28mself\u001b[39m, x: np\u001b[38;5;241m.\u001b[39mndarray, y: np\u001b[38;5;241m.\u001b[39mndarray) \u001b[38;5;241m-\u001b[39m\u001b[38;5;241m>\u001b[39m \u001b[38;5;28mfloat\u001b[39m:\n\u001b[1;32m--> 147\u001b[0m     fidelity \u001b[38;5;241m=\u001b[39m \u001b[38;5;28;43mself\u001b[39;49m\u001b[38;5;241;43m.\u001b[39;49m\u001b[43m_compute_fidelity\u001b[49m\u001b[43m(\u001b[49m\u001b[43mx\u001b[49m\u001b[43m,\u001b[49m\u001b[43m \u001b[49m\u001b[43my\u001b[49m\u001b[43m)\u001b[49m\n\u001b[0;32m    148\u001b[0m     \u001b[38;5;28;01mif\u001b[39;00m \u001b[38;5;28mself\u001b[39m\u001b[38;5;241m.\u001b[39m_shots \u001b[38;5;129;01mis\u001b[39;00m \u001b[38;5;129;01mnot\u001b[39;00m \u001b[38;5;28;01mNone\u001b[39;00m:\n\u001b[0;32m    149\u001b[0m         fidelity \u001b[38;5;241m=\u001b[39m \u001b[38;5;28mself\u001b[39m\u001b[38;5;241m.\u001b[39m_add_shot_noise(fidelity)\n",
      "File \u001b[1;32mc:\\Qe-CaDD\\Qe_CaDD\\Lib\\site-packages\\qiskit_machine_learning\\kernels\\fidelity_statevector_kernel.py:154\u001b[0m, in \u001b[0;36mFidelityStatevectorKernel._compute_fidelity\u001b[1;34m(x, y)\u001b[0m\n\u001b[0;32m    152\u001b[0m \u001b[38;5;129m@staticmethod\u001b[39m\n\u001b[0;32m    153\u001b[0m \u001b[38;5;28;01mdef\u001b[39;00m \u001b[38;5;21m_compute_fidelity\u001b[39m(x: np\u001b[38;5;241m.\u001b[39mndarray, y: np\u001b[38;5;241m.\u001b[39mndarray) \u001b[38;5;241m-\u001b[39m\u001b[38;5;241m>\u001b[39m \u001b[38;5;28mfloat\u001b[39m:\n\u001b[1;32m--> 154\u001b[0m     \u001b[38;5;28;01mreturn\u001b[39;00m np\u001b[38;5;241m.\u001b[39mabs(\u001b[43mnp\u001b[49m\u001b[38;5;241;43m.\u001b[39;49m\u001b[43mconj\u001b[49m\u001b[43m(\u001b[49m\u001b[43mx\u001b[49m\u001b[43m)\u001b[49m \u001b[38;5;241m@\u001b[39m y) \u001b[38;5;241m*\u001b[39m\u001b[38;5;241m*\u001b[39m \u001b[38;5;241m2\u001b[39m\n",
      "\u001b[1;31mKeyboardInterrupt\u001b[0m: "
     ]
    }
   ],
   "source": [
    "dict_data = r'C:/Qe-CaDD/Project/Stage_4_QSVM_toxicity_models/pathways_pca_16_1024/'\n",
    "\n",
    "for files in os.listdir(dict_data):\n",
    "    print(files)\n",
    "    name, ext = files.split(\".\")\n",
    "    df = pd.read_csv(rf'C:/Qe-CaDD/Project/Stage_4_QSVM_toxicity_models/pathways_pca_16_1024/{files}')\n",
    "\n",
    "    X = df.iloc[:, 1:17].values\n",
    "    y = df.iloc[:, 17:].values.squeeze()\n",
    "\n",
    "\n",
    "    df_combined = pd.DataFrame(X)\n",
    "    df_combined['label'] = y\n",
    "\n",
    "\n",
    "    df_0 = df_combined[df_combined['label'] == 0]\n",
    "    df_1 = df_combined[df_combined['label'] == 1]\n",
    "\n",
    "    df_0_resampled = resample(df_0, replace=False, n_samples=445 // 2, random_state=42)\n",
    "    df_1_resampled = resample(df_1, replace=False, n_samples=445 // 2, random_state=42)\n",
    "\n",
    "    df_balanced = pd.concat([df_0_resampled, df_1_resampled])\n",
    "    X_balanced = df_balanced.iloc[:, :-1].values\n",
    "    y_balanced = df_balanced['label'].values\n",
    "\n",
    "    x_train, x_test, y_train, y_test = train_test_split(X_balanced, y_balanced, test_size=0.2, random_state=42)\n",
    "    print(f\"Reduced x_train shape: {x_train.shape}\")\n",
    "\n",
    "    num_features = x_train.shape[1]\n",
    "    feature_map = ZFeatureMap(feature_dimension= num_features, reps = 2, insert_barriers=  True)\n",
    "\n",
    "    sampler = Sampler()\n",
    "    fidelity = ComputeUncompute(sampler = sampler)\n",
    "\n",
    "    kernel = FidelityStatevectorKernel(feature_map= feature_map)\n",
    "\n",
    "\n",
    "    qsvc = QSVC(quantum_kernel=kernel, C=0.75 , gamma = 0.001, cache_size=10000)\n",
    "    qsvc.fit(x_train, y_train)\n",
    "\n",
    "\n",
    "    qsvc_predict = qsvc.predict(x_test)\n",
    "\n",
    "    train_accuracy_qsvc = qsvc.score(x_train, y_train)\n",
    "    print(f\"Training Accuracy (QSVC): {train_accuracy_qsvc:.2f}\")\n",
    "\n",
    "    test_accuracy_qsvc = qsvc.score(x_test, y_test)\n",
    "    print(f\"Test Accuracy (QSVC): {test_accuracy_qsvc:.2f}\")\n",
    "\n",
    "\n",
    "    print(classification_report(y_test, qsvc_predict))\n",
    "\n",
    "\n",
    "    svm = SVC(kernel='rbf', C=1, gamma='scale', random_state=42)\n",
    "    svm.fit(x_train, y_train)\n",
    "\n",
    " \n",
    "    svm_predict = svm.predict(x_test)\n",
    "\n",
    "    train_accuracy_svm = svm.score(x_train, y_train)\n",
    "    print(f\"Training Accuracy (SVM): {train_accuracy_svm:.2f}\")\n",
    "    \n",
    "    test_score_svm = svm.score(x_test, y_test)\n",
    "    print(f\"Test Accuracy (SVM): {test_score_svm:.2f}\")\n",
    "\n",
    "    print(classification_report(y_test, svm_predict))\n",
    "\n",
    "    \n",
    "\n",
    "\n",
    "\n",
    "\n",
    "\n",
    "    #joblib.dump(svm, rf'{name}_SVM.joblib')\n"
   ]
  }
 ],
 "metadata": {
  "kernelspec": {
   "display_name": "qcadd_venv",
   "language": "python",
   "name": "python3"
  },
  "language_info": {
   "codemirror_mode": {
    "name": "ipython",
    "version": 3
   },
   "file_extension": ".py",
   "mimetype": "text/x-python",
   "name": "python",
   "nbconvert_exporter": "python",
   "pygments_lexer": "ipython3",
   "version": "3.13.1"
  }
 },
 "nbformat": 4,
 "nbformat_minor": 2
}
