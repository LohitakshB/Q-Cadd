{
 "cells": [
  {
   "cell_type": "code",
   "execution_count": null,
   "metadata": {},
   "outputs": [],
   "source": [
    "import pandas as pd\n",
    "\n",
    "\n",
    "def clean_csv(input_csv, output_csv):\n",
    "\n",
    "    df = pd.read_csv(input_csv)\n",
    "\n",
    "    df_cleaned = df.dropna()\n",
    "    \n",
    "\n",
    "    df_cleaned.to_csv(output_csv, index=False)\n",
    "    print(f\"Cleaned CSV saved as {output_csv}\")\n",
    "\n",
    "input_file = 'tox21.csv' \n",
    "output_file = 'tox21_cleaned.csv' \n",
    "clean_csv(input_file, output_file)\n"
   ]
  }
 ],
 "metadata": {
  "kernelspec": {
   "display_name": "Qe_CaDD",
   "language": "python",
   "name": "python3"
  },
  "language_info": {
   "codemirror_mode": {
    "name": "ipython",
    "version": 3
   },
   "file_extension": ".py",
   "mimetype": "text/x-python",
   "name": "python",
   "nbconvert_exporter": "python",
   "pygments_lexer": "ipython3",
   "version": "3.11.5"
  }
 },
 "nbformat": 4,
 "nbformat_minor": 2
}
