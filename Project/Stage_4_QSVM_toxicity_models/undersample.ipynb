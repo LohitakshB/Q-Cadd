{
 "cells": [
  {
   "cell_type": "code",
   "execution_count": 3,
   "metadata": {},
   "outputs": [
    {
     "name": "stderr",
     "output_type": "stream",
     "text": [
      "C:\\Users\\lohit\\AppData\\Local\\Temp\\ipykernel_2600\\2950203994.py:40: SettingWithCopyWarning: \n",
      "A value is trying to be set on a copy of a slice from a DataFrame.\n",
      "Try using .loc[row_indexer,col_indexer] = value instead\n",
      "\n",
      "See the caveats in the documentation: https://pandas.pydata.org/pandas-docs/stable/user_guide/indexing.html#returning-a-view-versus-a-copy\n",
      "  df_cleaned['DSSTox_CID'] = pd.to_numeric(df_cleaned['DSSTox_CID'], errors='coerce')\n",
      "C:\\Users\\lohit\\AppData\\Local\\Temp\\ipykernel_2600\\2950203994.py:40: SettingWithCopyWarning: \n",
      "A value is trying to be set on a copy of a slice from a DataFrame.\n",
      "Try using .loc[row_indexer,col_indexer] = value instead\n",
      "\n",
      "See the caveats in the documentation: https://pandas.pydata.org/pandas-docs/stable/user_guide/indexing.html#returning-a-view-versus-a-copy\n",
      "  df_cleaned['DSSTox_CID'] = pd.to_numeric(df_cleaned['DSSTox_CID'], errors='coerce')\n"
     ]
    },
    {
     "name": "stdout",
     "output_type": "stream",
     "text": [
      "Balanced dataset for SR-HSE created.\n",
      "Balanced dataset for NR-AR created.\n"
     ]
    },
    {
     "name": "stderr",
     "output_type": "stream",
     "text": [
      "C:\\Users\\lohit\\AppData\\Local\\Temp\\ipykernel_2600\\2950203994.py:40: SettingWithCopyWarning: \n",
      "A value is trying to be set on a copy of a slice from a DataFrame.\n",
      "Try using .loc[row_indexer,col_indexer] = value instead\n",
      "\n",
      "See the caveats in the documentation: https://pandas.pydata.org/pandas-docs/stable/user_guide/indexing.html#returning-a-view-versus-a-copy\n",
      "  df_cleaned['DSSTox_CID'] = pd.to_numeric(df_cleaned['DSSTox_CID'], errors='coerce')\n"
     ]
    },
    {
     "name": "stdout",
     "output_type": "stream",
     "text": [
      "Balanced dataset for SR-ARE created.\n",
      "Balanced dataset for NR-Aromatase created.\n"
     ]
    },
    {
     "name": "stderr",
     "output_type": "stream",
     "text": [
      "C:\\Users\\lohit\\AppData\\Local\\Temp\\ipykernel_2600\\2950203994.py:40: SettingWithCopyWarning: \n",
      "A value is trying to be set on a copy of a slice from a DataFrame.\n",
      "Try using .loc[row_indexer,col_indexer] = value instead\n",
      "\n",
      "See the caveats in the documentation: https://pandas.pydata.org/pandas-docs/stable/user_guide/indexing.html#returning-a-view-versus-a-copy\n",
      "  df_cleaned['DSSTox_CID'] = pd.to_numeric(df_cleaned['DSSTox_CID'], errors='coerce')\n",
      "C:\\Users\\lohit\\AppData\\Local\\Temp\\ipykernel_2600\\2950203994.py:40: SettingWithCopyWarning: \n",
      "A value is trying to be set on a copy of a slice from a DataFrame.\n",
      "Try using .loc[row_indexer,col_indexer] = value instead\n",
      "\n",
      "See the caveats in the documentation: https://pandas.pydata.org/pandas-docs/stable/user_guide/indexing.html#returning-a-view-versus-a-copy\n",
      "  df_cleaned['DSSTox_CID'] = pd.to_numeric(df_cleaned['DSSTox_CID'], errors='coerce')\n"
     ]
    },
    {
     "name": "stdout",
     "output_type": "stream",
     "text": [
      "Balanced dataset for NR-ER-LBD created.\n"
     ]
    },
    {
     "name": "stderr",
     "output_type": "stream",
     "text": [
      "C:\\Users\\lohit\\AppData\\Local\\Temp\\ipykernel_2600\\2950203994.py:40: SettingWithCopyWarning: \n",
      "A value is trying to be set on a copy of a slice from a DataFrame.\n",
      "Try using .loc[row_indexer,col_indexer] = value instead\n",
      "\n",
      "See the caveats in the documentation: https://pandas.pydata.org/pandas-docs/stable/user_guide/indexing.html#returning-a-view-versus-a-copy\n",
      "  df_cleaned['DSSTox_CID'] = pd.to_numeric(df_cleaned['DSSTox_CID'], errors='coerce')\n"
     ]
    },
    {
     "name": "stdout",
     "output_type": "stream",
     "text": [
      "Balanced dataset for NR-AhR created.\n"
     ]
    },
    {
     "name": "stderr",
     "output_type": "stream",
     "text": [
      "C:\\Users\\lohit\\AppData\\Local\\Temp\\ipykernel_2600\\2950203994.py:40: SettingWithCopyWarning: \n",
      "A value is trying to be set on a copy of a slice from a DataFrame.\n",
      "Try using .loc[row_indexer,col_indexer] = value instead\n",
      "\n",
      "See the caveats in the documentation: https://pandas.pydata.org/pandas-docs/stable/user_guide/indexing.html#returning-a-view-versus-a-copy\n",
      "  df_cleaned['DSSTox_CID'] = pd.to_numeric(df_cleaned['DSSTox_CID'], errors='coerce')\n"
     ]
    },
    {
     "name": "stdout",
     "output_type": "stream",
     "text": [
      "Balanced dataset for SR-MMP created.\n"
     ]
    },
    {
     "name": "stderr",
     "output_type": "stream",
     "text": [
      "C:\\Users\\lohit\\AppData\\Local\\Temp\\ipykernel_2600\\2950203994.py:40: SettingWithCopyWarning: \n",
      "A value is trying to be set on a copy of a slice from a DataFrame.\n",
      "Try using .loc[row_indexer,col_indexer] = value instead\n",
      "\n",
      "See the caveats in the documentation: https://pandas.pydata.org/pandas-docs/stable/user_guide/indexing.html#returning-a-view-versus-a-copy\n",
      "  df_cleaned['DSSTox_CID'] = pd.to_numeric(df_cleaned['DSSTox_CID'], errors='coerce')\n"
     ]
    },
    {
     "name": "stdout",
     "output_type": "stream",
     "text": [
      "Balanced dataset for NR-ER created.\n",
      "Balanced dataset for NR-PPAR-gamma created.\n"
     ]
    },
    {
     "name": "stderr",
     "output_type": "stream",
     "text": [
      "C:\\Users\\lohit\\AppData\\Local\\Temp\\ipykernel_2600\\2950203994.py:40: SettingWithCopyWarning: \n",
      "A value is trying to be set on a copy of a slice from a DataFrame.\n",
      "Try using .loc[row_indexer,col_indexer] = value instead\n",
      "\n",
      "See the caveats in the documentation: https://pandas.pydata.org/pandas-docs/stable/user_guide/indexing.html#returning-a-view-versus-a-copy\n",
      "  df_cleaned['DSSTox_CID'] = pd.to_numeric(df_cleaned['DSSTox_CID'], errors='coerce')\n",
      "C:\\Users\\lohit\\AppData\\Local\\Temp\\ipykernel_2600\\2950203994.py:40: SettingWithCopyWarning: \n",
      "A value is trying to be set on a copy of a slice from a DataFrame.\n",
      "Try using .loc[row_indexer,col_indexer] = value instead\n",
      "\n",
      "See the caveats in the documentation: https://pandas.pydata.org/pandas-docs/stable/user_guide/indexing.html#returning-a-view-versus-a-copy\n",
      "  df_cleaned['DSSTox_CID'] = pd.to_numeric(df_cleaned['DSSTox_CID'], errors='coerce')\n"
     ]
    },
    {
     "name": "stdout",
     "output_type": "stream",
     "text": [
      "Balanced dataset for SR-p53 created.\n",
      "Balanced dataset for SR-ATAD5 created.\n"
     ]
    },
    {
     "name": "stderr",
     "output_type": "stream",
     "text": [
      "C:\\Users\\lohit\\AppData\\Local\\Temp\\ipykernel_2600\\2950203994.py:40: SettingWithCopyWarning: \n",
      "A value is trying to be set on a copy of a slice from a DataFrame.\n",
      "Try using .loc[row_indexer,col_indexer] = value instead\n",
      "\n",
      "See the caveats in the documentation: https://pandas.pydata.org/pandas-docs/stable/user_guide/indexing.html#returning-a-view-versus-a-copy\n",
      "  df_cleaned['DSSTox_CID'] = pd.to_numeric(df_cleaned['DSSTox_CID'], errors='coerce')\n",
      "C:\\Users\\lohit\\AppData\\Local\\Temp\\ipykernel_2600\\2950203994.py:40: SettingWithCopyWarning: \n",
      "A value is trying to be set on a copy of a slice from a DataFrame.\n",
      "Try using .loc[row_indexer,col_indexer] = value instead\n",
      "\n",
      "See the caveats in the documentation: https://pandas.pydata.org/pandas-docs/stable/user_guide/indexing.html#returning-a-view-versus-a-copy\n",
      "  df_cleaned['DSSTox_CID'] = pd.to_numeric(df_cleaned['DSSTox_CID'], errors='coerce')\n"
     ]
    },
    {
     "name": "stdout",
     "output_type": "stream",
     "text": [
      "Balanced dataset for NR-AR-LBD created.\n"
     ]
    }
   ],
   "source": [
    "import pandas as pd\n",
    "from imblearn.under_sampling import ClusterCentroids\n",
    "\n",
    "\n",
    "file_path =r\"C:\\Qe-CaDD\\Project\\Data\\Stage_4_QSVM_data\\tox21.csv\"\n",
    "df = pd.read_csv(file_path)\n",
    "\n",
    "\n",
    "feature_columns = ['DSSTox_CID']  \n",
    "\n",
    "\n",
    "target_columns = ['SR-HSE', 'NR-AR', 'SR-ARE', 'NR-Aromatase', 'NR-ER-LBD', \n",
    "                  'NR-AhR', 'SR-MMP', 'NR-ER', 'NR-PPAR-gamma', 'SR-p53', \n",
    "                  'SR-ATAD5', 'NR-AR-LBD']\n",
    "\n",
    "\n",
    "smiles_column = 'SMILES'\n",
    "\n",
    "\n",
    "cc = ClusterCentroids(random_state=42)\n",
    "\n",
    "balanced_datasets = []\n",
    "\n",
    "for target in target_columns:\n",
    "\n",
    "    if df[target].isna().all():\n",
    "        continue\n",
    "    else:\n",
    "\n",
    "        df_cleaned = df.dropna(subset=feature_columns + [target, smiles_column])\n",
    "\n",
    "\n",
    "        if df_cleaned[feature_columns].isna().any().any():\n",
    "            print(f\"Warning: NaN values still exist in features for target {target}. Skipping undersampling for this target.\")\n",
    "            continue  \n",
    "\n",
    "        \n",
    "        df_cleaned['DSSTox_CID'] = pd.to_numeric(df_cleaned['DSSTox_CID'], errors='coerce')\n",
    "\n",
    "\n",
    "        X = df_cleaned[feature_columns]\n",
    "        y = df_cleaned[target]\n",
    "\n",
    "        X_resampled, y_resampled = cc.fit_resample(X, y)\n",
    "\n",
    "\n",
    "        df_resampled = pd.DataFrame(X_resampled, columns=feature_columns)\n",
    "        df_resampled[target] = y_resampled\n",
    "        df_resampled[smiles_column] = df_cleaned[smiles_column].iloc[:len(X_resampled)].reset_index(drop=True)\n",
    "        file_path = f'C:/Qe-CaDD/Project/Stage_4_QSVM_toxicity_models/pathways/{target}.csv'\n",
    "        df_resampled.to_csv(file_path)\n",
    "        print(f\"Balanced dataset for {target} created.\")\n",
    "\n",
    "\n"
   ]
  }
 ],
 "metadata": {
  "kernelspec": {
   "display_name": "Qe_CaDD",
   "language": "python",
   "name": "python3"
  },
  "language_info": {
   "codemirror_mode": {
    "name": "ipython",
    "version": 3
   },
   "file_extension": ".py",
   "mimetype": "text/x-python",
   "name": "python",
   "nbconvert_exporter": "python",
   "pygments_lexer": "ipython3",
   "version": "3.11.5"
  }
 },
 "nbformat": 4,
 "nbformat_minor": 2
}
