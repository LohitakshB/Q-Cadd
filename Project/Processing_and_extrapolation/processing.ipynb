{
 "cells": [
  {
   "cell_type": "code",
   "execution_count": null,
   "metadata": {},
   "outputs": [],
   "source": [
    "import pandas as pd\n",
    "from rdkit import Chem\n",
    "\n",
    "\n",
    "# Path to the sdf file\n",
    "sdf_file = \"C:\\Quantum_Computing\\Project\\Data\\EFGR\\lohitaksh.badarala_gmail.com7571_2D.sdf\"\n",
    "# Path to the  CSV file\n",
    "output_csv = \"C:\\Quantum_Computing\\Project\\Data\\EFGR\\EFGR_Inhibitors_SMILES_DB.csv\"\n",
    "\n",
    "# Create an empty list to store the data\n",
    "data = []\n",
    "\n",
    "# Use RDKit to read the SDF file\n",
    "suppl = Chem.SDMolSupplier(sdf_file)\n",
    "\n",
    "# Iterate through each molecule in the SDF file\n",
    "for index, mol in enumerate(suppl):\n",
    "    if mol is not None: \n",
    "        \n",
    "        smiles = Chem.MolToSmiles(mol)\n",
    "        \n",
    "        # Extract the ligand name (or generate a unique identifier)\n",
    "        ligand_name = mol.GetProp(\"_Name\") if mol.HasProp(\"_Name\") else f\"Ligand_{index+1}\"\n",
    "\n",
    "        # Append to the data list (Name and SMILES)\n",
    "        data.append({\"Name\": ligand_name, \"SMILE\": smiles})\n",
    "\n",
    "# Convert to a DataFrame\n",
    "df = pd.DataFrame(data)\n",
    "\n",
    "# Save to a CSV file\n",
    "df.to_csv(output_csv, index=False)\n",
    "\n",
    "print(f\"SMILES strings saved to {output_csv}\")"
   ]
  },
  {
   "cell_type": "code",
   "execution_count": null,
   "metadata": {},
   "outputs": [],
   "source": []
  }
 ],
 "metadata": {
  "kernelspec": {
   "display_name": ".venv",
   "language": "python",
   "name": "python3"
  },
  "language_info": {
   "codemirror_mode": {
    "name": "ipython",
    "version": 3
   },
   "file_extension": ".py",
   "mimetype": "text/x-python",
   "name": "python",
   "nbconvert_exporter": "python",
   "pygments_lexer": "ipython3",
   "version": "3.11.4"
  }
 },
 "nbformat": 4,
 "nbformat_minor": 2
}
