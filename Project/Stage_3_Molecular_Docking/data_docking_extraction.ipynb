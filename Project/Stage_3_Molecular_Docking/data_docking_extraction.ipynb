{
 "cells": [
  {
   "cell_type": "code",
   "execution_count": 11,
   "metadata": {},
   "outputs": [],
   "source": [
    "def extract_affinity(file_path):\n",
    "    affinities = []\n",
    "    full_path = rf\"C:\\Qe-CaDD\\Project\\Data\\Stage_3_molecular_docking_data\\Docking_data\\{file_path}\" \n",
    "    with open(full_path, 'r') as file:\n",
    "        for line in file:\n",
    "            if line.startswith(\"REMARK VINA RESULT\"):\n",
    "                affinity = float(line.split()[3])\n",
    "                affinities.append(affinity)\n",
    "    \n",
    "    best_affinity = min(affinities)\n",
    "    return best_affinity\n"
   ]
  },
  {
   "cell_type": "code",
   "execution_count": 12,
   "metadata": {},
   "outputs": [],
   "source": [
    "import os\n",
    "\n",
    "directory = r\"C:\\Qe-CaDD\\Project\\Data\\Stage_3_molecular_docking_data\\Docking_data\"\n",
    "affinity_list = []\n",
    "smiles_list = []\n",
    "file_list = []\n",
    "number_list= []\n",
    "for file in os.listdir(directory):\n",
    "    if file.startswith(\"out\"):\n",
    "        name, ext = file.split(\".\")\n",
    "        file_number = int(name.split('_')[1])-1\n",
    "        number_list.append(file_number)\n",
    "    else:\n",
    "        continue\n"
   ]
  },
  {
   "cell_type": "code",
   "execution_count": 13,
   "metadata": {},
   "outputs": [],
   "source": [
    "import pandas as pd\n",
    "\n",
    "df_smiles = pd.read_csv(\"C:\\Qe-CaDD\\Project\\Data\\Stage_2_filters_data\\EGFR_Inhibitors_SMILES_ghose.csv\")\n",
    "\n",
    "for index, smiles in enumerate(df_smiles['SMILE']):\n",
    "\n",
    "    current_file = \"out_\" + str(index+1) + \"_EGFR.pdbqt\"\n",
    "\n",
    "    if index in number_list:\n",
    "\n",
    "        smiles_list.append(smiles)\n",
    "        for file in os.listdir(directory):\n",
    "            if file == current_file :\n",
    "                file_list.append(file)\n",
    "                affinity = extract_affinity(file)\n",
    "                affinity_list.append(affinity)"
   ]
  },
  {
   "cell_type": "code",
   "execution_count": 14,
   "metadata": {},
   "outputs": [
    {
     "name": "stdout",
     "output_type": "stream",
     "text": [
      "Data has been saved to C:\\Qe-CaDD\\Project\\Data\\Stage_3_molecular_docking_data\\docking_output_data.csv\n"
     ]
    }
   ],
   "source": [
    "\n",
    "df = pd.DataFrame({\n",
    "    \"File\": file_list,\n",
    "    \"Affinity\": affinity_list,\n",
    "    \"SMILES\": smiles_list\n",
    "})\n",
    "\n",
    "\n",
    "output_csv_path = r\"C:\\Qe-CaDD\\Project\\Data\\Stage_3_molecular_docking_data\\docking_output_data.csv\"\n",
    "\n",
    "df.to_csv(output_csv_path, index=False)\n",
    "\n",
    "print(f\"Data has been saved to {output_csv_path}\")"
   ]
  }
 ],
 "metadata": {
  "kernelspec": {
   "display_name": "Qe_CaDD",
   "language": "python",
   "name": "python3"
  },
  "language_info": {
   "codemirror_mode": {
    "name": "ipython",
    "version": 3
   },
   "file_extension": ".py",
   "mimetype": "text/x-python",
   "name": "python",
   "nbconvert_exporter": "python",
   "pygments_lexer": "ipython3",
   "version": "3.11.5"
  }
 },
 "nbformat": 4,
 "nbformat_minor": 2
}
