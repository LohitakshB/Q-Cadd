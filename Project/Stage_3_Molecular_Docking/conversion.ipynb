{
 "cells": [
  {
   "cell_type": "code",
   "execution_count": 1,
   "metadata": {},
   "outputs": [],
   "source": [
    "import rdkit\n",
    "from rdkit import Chem\n",
    "import pandas as pd\n",
    "from rdkit.Chem import AllChem\n",
    "from rdkit.Chem import MolToPDBBlock\n",
    "import os"
   ]
  },
  {
   "cell_type": "code",
   "execution_count": null,
   "metadata": {},
   "outputs": [],
   "source": [
    "csv = 'C:\\Qe-CaDD\\Project\\Data\\EGFR_Inhibitors_SMILES_ghose_QED.csv'\n",
    "df = pd.read_csv(csv)\n",
    "\n",
    "output_folder_PDB ='C:\\Qe-CaDD\\Project\\Data\\Ligands_EGFR_PDB'\n",
    "\n",
    "for index, entry in enumerate(df['SMILE']):\n",
    "    smiles = entry.replace(\"'\", \"\")\n",
    "    lig_num = index +1\n",
    "    if pd.isna(smiles) or not Chem.MolFromSmiles(smiles):\n",
    "        continue\n",
    "\n",
    "    try:\n",
    "        mol = Chem.MolFromSmiles(smiles)\n",
    "        mol = Chem.AddHs(mol)  \n",
    "        embemded = AllChem.EmbedMolecule(mol)\n",
    "\n",
    "        \n",
    "        if embemded!= 0:\n",
    "            print(f\"Embedding failed for ligand {lig_num} with SMILES: {smiles}. Skipping this ligand.\")\n",
    "            continue  \n",
    "\n",
    "        pdb_filename = os.path.join(output_folder_PDB, f\"{lig_num}_EGFR.pdb\")\n",
    "\n",
    "        Chem.MolToPDBFile(mol, pdb)\n",
    "    except Exception as e:\n",
    "        print(f\"Error processing ligand {lig_num}: {e}\")\n"
   ]
  },
  {
   "cell_type": "code",
   "execution_count": null,
   "metadata": {},
   "outputs": [],
   "source": [
    "import os\n",
    "import subprocess\n",
    "input_dir = \"C:\\Qe-CaDD\\Project\\Data\\Ligands_EGFR_PDB\"\n",
    "os.chdir(r\"C:\\Qe-CaDD\\Project\\Data\\Ligands_EGFR_PDB\")\n",
    "\n",
    "mgltools_path = r\"C:\\Program Files (x86)\\MGLTools-1.5.7\\Lib\\site-packages\\AutoDockTools\\Utilities24\\prepare_ligand4.py\" \n",
    "\n",
    "output_dir = r\"C:\\Qe-CaDD\\Project\\Data\\Ligands_EGFR_PDBQT\"\n",
    "\n",
    "\n",
    "os.makedirs(output_dir, exist_ok=True)\n",
    "\n",
    "for pdb_file in os.listdir(input_dir):\n",
    "    lig, ext = os.path.splitext(pdb_file)\n",
    "\n",
    "    output_path = os.path.join(output_dir, f\"{lig}.pdbqt\")\n",
    "    input_path = os.path.join(input_dir, pdb_file)\n",
    "    print(f\"Processing {input_path}...\")\n",
    "        \n",
    "        \n",
    "    result = subprocess.run([\"C:\\Program Files (x86)\\MGLTools-1.5.7\\python.exe\", mgltools_path, '-l',pdb_file, '-o', output_path, '-v'], \n",
    "                                capture_output=True, text=True)\n",
    "\n",
    "\n",
    "    if result.returncode == 0:\n",
    "        print(f\"Converted {pdb_file} to PDBQT format successfully.\")\n",
    "    else:\n",
    "            \n",
    "        print(f\"{result.stderr.strip()}\")\n"
   ]
  }
 ],
 "metadata": {
  "kernelspec": {
   "display_name": "Qe_CaDD",
   "language": "python",
   "name": "python3"
  },
  "language_info": {
   "codemirror_mode": {
    "name": "ipython",
    "version": 3
   },
   "file_extension": ".py",
   "mimetype": "text/x-python",
   "name": "python",
   "nbconvert_exporter": "python",
   "pygments_lexer": "ipython3",
   "version": "3.11.5"
  }
 },
 "nbformat": 4,
 "nbformat_minor": 2
}
