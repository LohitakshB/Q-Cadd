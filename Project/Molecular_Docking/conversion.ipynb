{
 "cells": [
  {
   "cell_type": "code",
   "execution_count": 1,
   "metadata": {},
   "outputs": [],
   "source": [
    "import rdkit\n",
    "from rdkit import Chem\n",
    "import pandas as pd\n",
    "from rdkit.Chem import AllChem\n",
    "from rdkit.Chem import MolToPDBBlock\n",
    "import os"
   ]
  },
  {
   "cell_type": "code",
   "execution_count": null,
   "metadata": {},
   "outputs": [],
   "source": [
    "csv = 'C:\\Quantum_Computing\\Project\\Data\\Bace1\\BACE1_Inhibitors_SMILES_Selfies_2.csv'\n",
    "df = pd.read_csv(csv)\n",
    "\n",
    "output_folder_PDB ='C:\\Quantum_Computing\\Project\\Data\\ACE2\\ACE2_Ligands_PDB'\n",
    "\n",
    "for index, entry in enumerate(df['SMILE']):\n",
    "    smiles = entry.replace(\"'\", \"\")\n",
    "    lig_num = index +1\n",
    "    if pd.isna(smiles) or not Chem.MolFromSmiles(smiles):\n",
    "        continue\n",
    "\n",
    "    try:\n",
    "        mol = Chem.MolFromSmiles(smiles)\n",
    "        mol = Chem.AddHs(mol)  \n",
    "        embemded = AllChem.EmbedMolecule(mol)\n",
    "\n",
    "        \n",
    "        if embemded!= 0:\n",
    "            print(f\"Embedding failed for ligand {lig_num} with SMILES: {smiles}. Skipping this ligand.\")\n",
    "            continue  \n",
    "\n",
    "        pdbqt_filename = os.path.join(output_folder_PDB, f\"{lig_num}_ACE2.pdb\")\n",
    "\n",
    "        Chem.MolToPDBFile(mol, pdbqt_filename)\n",
    "    except Exception as e:\n",
    "        print(f\"Error processing ligand {lig_num}: {e}\")\n"
   ]
  },
  {
   "cell_type": "code",
   "execution_count": null,
   "metadata": {},
   "outputs": [],
   "source": []
  }
 ],
 "metadata": {
  "kernelspec": {
   "display_name": ".venv",
   "language": "python",
   "name": "python3"
  },
  "language_info": {
   "codemirror_mode": {
    "name": "ipython",
    "version": 3
   },
   "file_extension": ".py",
   "mimetype": "text/x-python",
   "name": "python",
   "nbconvert_exporter": "python",
   "pygments_lexer": "ipython3",
   "version": "3.11.4"
  }
 },
 "nbformat": 4,
 "nbformat_minor": 2
}
